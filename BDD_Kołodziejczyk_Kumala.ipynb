{
  "nbformat": 4,
  "nbformat_minor": 0,
  "metadata": {
    "colab": {
      "name": "BDD_Kołodziejczyk_Kumala.ipynb",
      "provenance": [],
      "collapsed_sections": [],
      "toc_visible": true,
      "include_colab_link": true
    },
    "kernelspec": {
      "name": "python3",
      "display_name": "Python 3"
    },
    "language_info": {
      "name": "python"
    }
  },
  "cells": [
    {
      "cell_type": "markdown",
      "metadata": {
        "id": "view-in-github",
        "colab_type": "text"
      },
      "source": [
        "<a href=\"https://colab.research.google.com/github/MagdalenaKumala/Projekt2.github.io/blob/main/BDD_Ko%C5%82odziejczyk_Kumala.ipynb\" target=\"_parent\"><img src=\"https://colab.research.google.com/assets/colab-badge.svg\" alt=\"Open In Colab\"/></a>"
      ]
    },
    {
      "cell_type": "markdown",
      "metadata": {
        "id": "ghiui3TlJXQD"
      },
      "source": [
        "Kierunek: **Informatyka i Ekonometria**\n",
        "\n",
        "Przedmiot: **Elementy Sztucznej Inteligencji**\n",
        "\n",
        "**Grupa 2**\n",
        " \n",
        "Projekt wykonały:\n",
        "\n",
        "**Zuzanna Kołodziejczyk, Magdalena Kumala**\n",
        "\n",
        "\n",
        "\n"
      ]
    },
    {
      "cell_type": "markdown",
      "metadata": {
        "id": "NIg7YQE4Ahi3"
      },
      "source": [
        "# Zagadnienia teoretyczne"
      ]
    },
    {
      "cell_type": "markdown",
      "metadata": {
        "id": "AOz6qu9HAolo"
      },
      "source": [
        "**Drzewa decyzyjne**  to graficzny sposób przedstawienia procesu decyzyjnego. Drzewo to ma sporo zastosowań, może rozwiązywać problem decyzyjny oraz stworzyć plan. Metoda drzew decyzyjnych bardzo dobrze się sprawdza, gdy rozpatrywane przez nas problemy decyzyjne mają wiele rozgałęziających się wariantów oraz kiedy podejmujemy decyzję w warunkach ryzyka. \n",
        "\n",
        "W drzewie decyzyjnym węzłami nazywamy poszczególne atrybuty, gałęzie to wartości odpowiadające tym atrybutom natomiast liście tworzą poszczególne decyzje. \n",
        "\n",
        "**`Entropią`** jest to miara stopnia nieuporządkowania elementów w zbiorze, określamy ją wzorem:\n",
        "\n",
        "> ![entropia1.png](data:image/png;base64,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)\n",
        "\n",
        "gdzie p to prawdopodobieństwo wystąpienia zdarzenia. "
      ]
    },
    {
      "cell_type": "markdown",
      "metadata": {
        "id": "bXtiTpUeDa4l"
      },
      "source": [
        "#Nasze dane i rozwiązywany problem"
      ]
    },
    {
      "cell_type": "markdown",
      "metadata": {
        "id": "L37MyOPADhpu"
      },
      "source": [
        "W naszym projekcie zajęłyśmy się problemem w podjęciu decyzji odnośnie wyboru gry komputerowej. W celu uzyskania odpowiedzi określiłyśmy 5 przesłanek oraz możliwy wybór.\n",
        "\n",
        "Przesłanki:\n",
        "*   **czy_kooperacyjna** - tak/nie (czy można grać z kimś w parze)\n",
        "*   **ilosc_godzin** - mało/średnio/dużo (jak długo gracz może cieszyć się grą)\n",
        "*   **poziom_trudosci** - łatwy/średni/trudny (jak wymagająca może być gra)\n",
        "*   **typ_gry** - przygodowa/fabularna/zręcznościowa/logiczna (do jakiej kategorii zalicza się gra)\n",
        "* **swiat** - mały/średni/duży (jaka jest skala mapy i swobody poruszania graczy)\n",
        "\n",
        "Możliwe rezultaty:\n",
        "*   ***Uncharted***\n",
        "*   ***Wiedźmin 3***\n",
        "*   ***A way out***\n",
        "\n",
        "Wybór odpowiednich rezultatów starałyśmy się dobrać zgodnie z kryteriami:\n",
        "1.   Domyślnie Uncharted\n",
        "2.   Jeżeli kooperacyjna to A way out\n",
        "3.   Jeżeli gra fabularna i duży świat to Wiedźmin 3\n",
        "4.   Jeżeli gra przygodowa i średni poziom trudności to Uncharted\n",
        "5.   Jeżeli gra zręcznościowa i mały świat to A way out\n",
        "6.   Jeżeli gra przygodowa i mała ilość godzin to A way out\n",
        "7.   Jeżeli poziom trudności duży i duży świat to Wiedźmin 3\n",
        "\n",
        "\n",
        "\n",
        "\n",
        "\n",
        "\n",
        "\n",
        "\n",
        "\n",
        "\n"
      ]
    },
    {
      "cell_type": "markdown",
      "metadata": {
        "id": "7eMEIhkg3E9m"
      },
      "source": [
        "#Kod"
      ]
    },
    {
      "cell_type": "markdown",
      "metadata": {
        "id": "Z3mL3Xoa2eDP"
      },
      "source": [
        "##Biblioteki i dane"
      ]
    },
    {
      "cell_type": "code",
      "metadata": {
        "id": "9gNuVNuGvtuU"
      },
      "source": [
        "#załączamy potrzebne biblioteki \n",
        "import numpy as np\n",
        "import pandas as pd\n",
        "\n",
        "import matplotlib.pyplot as plt\n",
        "import seaborn as sns\n",
        "\n",
        "import random\n",
        "from pprint import pprint"
      ],
      "execution_count": null,
      "outputs": []
    },
    {
      "cell_type": "code",
      "metadata": {
        "colab": {
          "base_uri": "https://localhost:8080/"
        },
        "id": "pJGYqbA12DeZ",
        "outputId": "cba63a42-c3fc-4947-e3ba-a307cf020ccd"
      },
      "source": [
        "random.seed(0)\n",
        "#dodajemy dane oraz przygotowywujemy je do późniejszych działań \n",
        "data = pd.read_csv(\"wybor_gry_dane.csv\", sep=';')\n",
        "\n",
        "print(data.head()) #wypisujemy nagłówki naszych danych "
      ],
      "execution_count": null,
      "outputs": [
        {
          "output_type": "stream",
          "text": [
            "  czy_kooperacyjna ilosc_godzin  ...   swiat    jaka_gra\n",
            "0              nie         mało  ...    mały   A way out\n",
            "1              nie         mało  ...  średni   A way out\n",
            "2              nie         mało  ...    duży   A way out\n",
            "3              nie         mało  ...    mały  Wiedźmin 3\n",
            "4              nie         mało  ...  średni  Wiedźmin 3\n",
            "\n",
            "[5 rows x 6 columns]\n"
          ],
          "name": "stdout"
        }
      ]
    },
    {
      "cell_type": "markdown",
      "metadata": {
        "id": "f5D-4-vI3Wgt"
      },
      "source": [
        "> ## Sprawdzamy ile jest klas"
      ]
    },
    {
      "cell_type": "code",
      "metadata": {
        "id": "06IguqdJwvwE"
      },
      "source": [
        "def check_purity(data):\n",
        "    label_column = data[:, -1] #sprawdzamy wartości w ostatniej kolumnie\n",
        "    unique_classes = np.unique(label_column) #dzięki temu wiemy, że mamy trzy możliwości końcowe\n",
        "#sprawdzamy, czy nasze decyzje są jednakowe czy różne\n",
        "    if len(unique_classes) == 1:\n",
        "        return True\n",
        "    else:\n",
        "        return False"
      ],
      "execution_count": null,
      "outputs": []
    },
    {
      "cell_type": "markdown",
      "metadata": {
        "id": "UzVe8F7E4Al8"
      },
      "source": [
        "> ## Klasyfikacja - które dane są najczęściej powtarzane"
      ]
    },
    {
      "cell_type": "code",
      "metadata": {
        "id": "V3JZ1JHSwvsd"
      },
      "source": [
        "def classify_data(data):\n",
        "    label_column = data[:, -1]\n",
        "#sprawdzamy, która gra pojawia się najczęściej:\n",
        "    unique_classes, counts_unique_classes = np.unique(label_column, return_counts=True)\n",
        "    index = counts_unique_classes.argmax() #index najczęściej powatarzanej\n",
        "    classification = unique_classes[index]\n",
        "    \n",
        "    return classification"
      ],
      "execution_count": null,
      "outputs": []
    },
    {
      "cell_type": "markdown",
      "metadata": {
        "id": "w-Ic4SHz5836"
      },
      "source": [
        "> ## Potencjalne rozłamy drzewa (gałęzi)"
      ]
    },
    {
      "cell_type": "code",
      "metadata": {
        "id": "qi0sOnNtwvqR"
      },
      "source": [
        "def get_potential_splits(data):\n",
        "    \n",
        "    potential_splits = {} #biblioteka\n",
        "    _, n_columns = data.shape\n",
        "    for column_index in range(n_columns - 1): #sprawdzamy ile kolumn posiada nasz model zmiennych, \n",
        "#pierwsza liczba to liczba wierszy a druga kolumn, z liczby kolumn usuwamy ostatni wiersz, czyli label\n",
        "        values = data[:, column_index] \n",
        "        unique_values = np.unique(values)\n",
        "        \n",
        "        potential_splits[column_index] = unique_values\n",
        "    \n",
        "    return potential_splits"
      ],
      "execution_count": null,
      "outputs": []
    },
    {
      "cell_type": "markdown",
      "metadata": {
        "id": "m3hvKobJ65W1"
      },
      "source": [
        "> ## Dzielenie danych "
      ]
    },
    {
      "cell_type": "code",
      "metadata": {
        "id": "Bd4eRHBPwvoD"
      },
      "source": [
        "def split_data(data, split_column, split_value):\n",
        "    \n",
        "    split_column_values = data[:, split_column]\n",
        "\n",
        "    type_of_feature = FEATURE_TYPES[split_column]\n",
        "    if type_of_feature == \"continuous\":\n",
        "#wpisujemy do tablicy wszystkie dane, które w danej kolumnie są mniejsze niż split_value\n",
        "        global data_below\n",
        "        data_below = data[split_column_values <= split_value]\n",
        "#wpisujemy do tablicy wszystkie dane, które w danej kolumnie są większe niż split_value\n",
        "        global data_above\n",
        "        data_above = data[split_column_values >  split_value]\n",
        "    \n",
        "#funkcja kategoryczna  \n",
        "    else:\n",
        "        data_below = data[split_column_values == split_value]\n",
        "        data_above = data[split_column_values != split_value]\n",
        "    \n",
        "    return data_below, data_above"
      ],
      "execution_count": null,
      "outputs": []
    },
    {
      "cell_type": "markdown",
      "metadata": {
        "id": "-M4k1kud7znG"
      },
      "source": [
        "> ## Entropia"
      ]
    },
    {
      "cell_type": "code",
      "metadata": {
        "id": "IYTVHJ_9wvmL"
      },
      "source": [
        "def calculate_entropy(data):\n",
        "#tworzymy klasę do obliczania entropii\n",
        "    label_column = data[:, -1]\n",
        "    _, counts = np.unique(label_column, return_counts=True) #sprawdzamy prawdopodobieństwo\n",
        "\n",
        "    probabilities = counts / counts.sum()\n",
        "    entropy = sum(probabilities * -np.log2(probabilities))\n",
        "     \n",
        "    return entropy"
      ],
      "execution_count": null,
      "outputs": []
    },
    {
      "cell_type": "code",
      "metadata": {
        "id": "TVIgqrdywvjh"
      },
      "source": [
        "def calculate_overall_entropy(data_below, data_above): #klasa obliczająca całkowitą entropię \n",
        "    \n",
        "    n = len(data_below) + len(data_above)\n",
        "    p_data_below = len(data_below) / n\n",
        "    p_data_above = len(data_above) / n\n",
        "\n",
        "    overall_entropy =  (p_data_below * calculate_entropy(data_below) \n",
        "                      + p_data_above * calculate_entropy(data_above))\n",
        "    \n",
        "    return overall_entropy"
      ],
      "execution_count": null,
      "outputs": []
    },
    {
      "cell_type": "markdown",
      "metadata": {
        "id": "shY4YBNd75TO"
      },
      "source": [
        "> ## Szukamy najlepszych rozłamów podziałów"
      ]
    },
    {
      "cell_type": "code",
      "metadata": {
        "id": "QpOOHrk4wvhd"
      },
      "source": [
        "def determine_best_split(data, potential_splits):   \n",
        "    overall_entropy = 9999\n",
        "#pętla przechodząca przez słowniku wszystkich potencjalnych podziałów\n",
        "    for column_index in potential_splits:\n",
        "        for value in potential_splits[column_index]: #obliczamy entropię dla każdego potencjalnego rozłamu\n",
        "            data_below, data_above = split_data(data, split_column=column_index, split_value=value)\n",
        "            current_overall_entropy = calculate_overall_entropy(data_below, data_above)\n",
        "\n",
        "            if current_overall_entropy <= overall_entropy: #jeżeli program znalazł niższą wartość entropii aktualizuje najlpeszy wynik\n",
        "                overall_entropy = current_overall_entropy\n",
        "#ustawiamy best_split_column oraz best_split_value na global, ponieważ używamy ich w dalszej części kodu, a w tym momencie definiowane \n",
        "#są tylko w funckji if do której program nie wchodzi jeżlei nie jest spełniony warunek konieczny \n",
        "                global best_split_column  \n",
        "                best_split_column = column_index\n",
        "                global best_split_value\n",
        "                best_split_value = value\n",
        "    \n",
        "    return best_split_column, best_split_value"
      ],
      "execution_count": null,
      "outputs": []
    },
    {
      "cell_type": "markdown",
      "metadata": {
        "id": "FUujn8LC9Aa9"
      },
      "source": [
        "> ## Reprezentacja drzewa decyzyjnego"
      ]
    },
    {
      "cell_type": "code",
      "metadata": {
        "id": "hLdTRCKWwve-"
      },
      "source": [
        "#drzewo działa na podstawie pytań \"tak\", \"nie\"\n",
        "sub_tree = {\"question\": [\"yes_answer\", \n",
        "                         \"no_answer\"]}"
      ],
      "execution_count": null,
      "outputs": []
    },
    {
      "cell_type": "code",
      "metadata": {
        "id": "q7dCq7aewvaL"
      },
      "source": [
        "#sprawdzamy typ funkcji \n",
        "def determine_type_of_feature(df):\n",
        "    \n",
        "    feature_types = []\n",
        "    n_unique_values_treshold = 15\n",
        "    for feature in df.columns:\n",
        "        if feature != \"label\":\n",
        "            unique_values = df[feature].unique()\n",
        "            example_value = unique_values[0]\n",
        "\n",
        "            if (isinstance(example_value, str)) or (len(unique_values) <= n_unique_values_treshold):\n",
        "                feature_types.append(\"categorical\")\n",
        "            else:\n",
        "                feature_types.append(\"continuous\")\n",
        "    \n",
        "    return feature_types"
      ],
      "execution_count": null,
      "outputs": []
    },
    {
      "cell_type": "markdown",
      "metadata": {
        "id": "-499HxuF9sfl"
      },
      "source": [
        "> ## Algorytm drzewa decyzyjnego"
      ]
    },
    {
      "cell_type": "code",
      "metadata": {
        "id": "3PDkm17oxQJ0"
      },
      "source": [
        "def decision_tree_algorithm(df, counter=0, min_samples=2, max_depth=5):\n",
        "#przygotowywujemy nasze dane (transformujemy dane)\n",
        "    if counter == 0:\n",
        "        global COLUMN_HEADERS, FEATURE_TYPES\n",
        "        COLUMN_HEADERS = df.columns\n",
        "        FEATURE_TYPES = determine_type_of_feature(df)\n",
        "        data = df.values\n",
        "    else:\n",
        "        data = df           \n",
        "#część, która zatrzymuje działanie algorytmu, żeby nie wywoływał się w nieskończoność\n",
        "    if (check_purity(data)) or (len(data) < min_samples) or (counter == max_depth):\n",
        "        classification = classify_data(data)\n",
        "        \n",
        "        return classification\n",
        "#część rekursywna (rekurencja)\n",
        "    else:    \n",
        "        counter += 1\n",
        "#funkcje pomocnicze\n",
        "        potential_splits = get_potential_splits(data)\n",
        "        split_column, split_value = determine_best_split(data, potential_splits)\n",
        "        data_below, data_above = split_data(data, split_column, split_value) #dzielimy dane \n",
        "#sprawdzamy, czy nie mamy do czynienia z pustymi danymi \n",
        "        if len(data_below) == 0 or len(data_above) == 0:\n",
        "            classification = classify_data(data)\n",
        "            return classification\n",
        "#ustalamy pytanie, które ma być zadane\n",
        "        feature_name = COLUMN_HEADERS[split_column]\n",
        "        type_of_feature = FEATURE_TYPES[split_column]\n",
        "        if type_of_feature == \"continuous\":\n",
        "            question = \"{} <= {}\".format(feature_name, split_value)\n",
        "#jeżeli funckja przyjmuje wartość kategoryczną\n",
        "        else:\n",
        "            question = \"{} = {}\".format(feature_name, split_value)\n",
        "#tworzymy poddrzewa\n",
        "        sub_tree = {question: []}\n",
        "#znajdujemy odpowiedzi na pytania, aby stworzyć poddrzewa (wykorzystując rekurencję)\n",
        "        yes_answer = decision_tree_algorithm(data_below, counter, min_samples, max_depth)\n",
        "        no_answer = decision_tree_algorithm(data_above, counter, min_samples, max_depth)\n",
        "#Jeżeli odpowiedzi są takie same wtedy nie ma sensu zadawać pytań. Może się to zdarzyć gdy zmienne nie są czyste.\n",
        "        if yes_answer == no_answer:\n",
        "            sub_tree = yes_answer\n",
        "        else:\n",
        "            sub_tree[question].append(yes_answer)\n",
        "            sub_tree[question].append(no_answer)\n",
        "        \n",
        "        return sub_tree"
      ],
      "execution_count": null,
      "outputs": []
    },
    {
      "cell_type": "code",
      "metadata": {
        "colab": {
          "base_uri": "https://localhost:8080/"
        },
        "id": "tcoEMPNaxQxC",
        "outputId": "5da2f851-f647-4bf1-f6ba-41afdff48ff1"
      },
      "source": [
        "#wywołujemy nasze drzewo decyzyjne\n",
        "tree = decision_tree_algorithm(data)\n",
        "\n",
        "pprint(tree)"
      ],
      "execution_count": null,
      "outputs": [
        {
          "output_type": "stream",
          "text": [
            "{'typ_gry = fabularna': [{'swiat = mały': [{'ilosc_godzin = dużo ': ['Wiedźmin '\n",
            "                                                                     '3',\n",
            "                                                                     {'poziom_trudnosci = łatwy': ['Uncharted',\n",
            "                                                                                                   {'ilosc_godzin = średnio ': ['Wiedźmin '\n",
            "                                                                                                                                '3',\n",
            "                                                                                                                                'Uncharted']}]}]},\n",
            "                                           'Wiedźmin 3']},\n",
            "                         {'swiat = duży': [{'poziom_trudnosci = trudny ': [{'ilosc_godzin = dużo ': [{'typ_gry = zręcznościowa': ['Uncharted',\n",
            "                                                                                                                                  'Wiedźmin '\n",
            "                                                                                                                                  '3']},\n",
            "                                                                                                     'Uncharted']},\n",
            "                                                                           'Uncharted']},\n",
            "                                           {'typ_gry = logiczna': [{'czy_kooperacyjna = tak': [{'poziom_trudnosci = średni': ['Uncharted',\n",
            "                                                                                                                              'A '\n",
            "                                                                                                                              'way '\n",
            "                                                                                                                              'out']},\n",
            "                                                                                               'Uncharted']},\n",
            "                                                                   {'swiat = średni': [{'ilosc_godzin = dużo ': ['Uncharted',\n",
            "                                                                                                                 'A '\n",
            "                                                                                                                 'way '\n",
            "                                                                                                                 'out']},\n",
            "                                                                                       'A '\n",
            "                                                                                       'way '\n",
            "                                                                                       'out']}]}]}]}\n"
          ],
          "name": "stdout"
        }
      ]
    },
    {
      "cell_type": "markdown",
      "metadata": {
        "id": "udmL-9m9KeE7"
      },
      "source": [
        "# Bibliografia"
      ]
    },
    {
      "cell_type": "markdown",
      "metadata": {
        "id": "I8iFCx7TKi_6"
      },
      "source": [
        "Informacje dotyczące drzewa decyzyjnego: \n",
        "\n",
        "https://pl.wikipedia.org/wiki/Drzewo_decyzyjne\n",
        "\n",
        "https://mfiles.pl/pl/index.php/Drzewo_decyzyjne\n",
        "\n",
        "Entropia: \n",
        "\n",
        "https://sjp.pl/entropia\n",
        "https://teams.microsoft.com/_#/pdf/viewer/teams/https:~2F~2Faghedupl.sharepoint.com~2Fsites~2FElementysztucznejinteligencjiS2021~2FMateriay%20z%20zaj~2FPozyskiwanie%20wiedzy.pdf?threadId=19:18a6aae7353e491ab006e57805eede9a@thread.tacv2&baseUrl=https:~2F~2Faghedupl.sharepoint.com~2Fsites~2FElementysztucznejinteligencjiS2021&fileId=4afbc4b9-521e-4d4c-ab81-cc7a14c608df&ctx=files&rootContext=items_view&viewerAction=view\n",
        "\n",
        "Poradnik: \n",
        "\n",
        "https://www.youtube.com/watch?v=y6DmpG_PtN0&list=PLPOTBrypY74xS3WD0G_uzqPjCQfU6IRK-"
      ]
    }
  ]
}